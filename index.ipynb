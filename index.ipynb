{
 "cells": [
  {
   "cell_type": "markdown",
   "metadata": {},
   "source": [
    "# Extract CV (PDF) To JSON with Mistral\n",
    "\n",
    "This program is designed to extract structured data from a PDF file (in this case, a CV or resume) using a language model. Here's a step-by-step breakdown of what the code does:\n",
    "\n",
    "Importing Required Libraries:\n",
    "\n",
    "1. ChatMistralAI from langchain_mistralai.chat_models:  \n",
    "This is the language model used for processing the text.\n",
    "BaseModel and Field from pydantic: These are used to define the structure of the extracted data.\n",
    "2. PyPDFLoader from langchain_community.document_loaders:   \n",
    "This is used to load and split the PDF file into pages. List from typing: This is used to define the type of the skills field in the CVDataExtraction model. The PyPDFLoader is used to load the PDF file named cv.pdf. The load_and_split method splits the PDF into individual pages.\n",
    "3. Typing :   \n",
    "The typing module provides a standard way to define these type hints, which can improve code readability, help with debugging, and enable better support from IDEs and static type checkers.\n",
    "4. SSL :  \n",
    "Standard security technology for establishing an encrypted link between a server and a client. In the context of Python programming, the ssl module provides access to Transport Layer Security (previously known as Secure Sockets Layer) encryption and peer authentication facilities for network sockets."
   ]
  },
  {
   "cell_type": "code",
   "execution_count": null,
   "metadata": {},
   "outputs": [],
   "source": [
    "pip install langchain-core langchain-mistralai pypdf pydantic langchain-community"
   ]
  },
  {
   "cell_type": "markdown",
   "metadata": {},
   "source": [
    "## Extracting Text from PDF\n",
    "\n",
    "The code defines a CVDataExtraction model using Pydantic, which structures and validates the extracted data from a CV. It includes fields for various candidate details like full name, email, job titles, skills, professional experience, education, publications, distinctions, and certifications. The model ensures that the data is organized and validated. After extracting and combining the text from a PDF file, the model is used with a MistralAI model to process the CV and output the data in a structured format, like JSON, for further use."
   ]
  },
  {
   "cell_type": "code",
   "execution_count": null,
   "metadata": {},
   "outputs": [
    {
     "name": "stdout",
     "output_type": "stream",
     "text": [
      "LibreSSL 2.8.3\n"
     ]
    },
    {
     "data": {
      "text/plain": [
       "CVDataExtraction(full_name='Pirate King', email='pirateking@gmail.com', job_titles='Software Engineer', promotion_years=2014, profile='A highly skilled software engineer with experience in various programming languages and technologies, including C#, .NET, Java, JavaScript, TypeScript, C++, and more. Proficient in both frontend and backend development, with expertise in cloud computing, microservices, and game development. Has worked with major companies like Microsoft, Amazon, and eBay, contributing to significant projects and driving substantial revenue.', skills=['C#', '.NET', 'Java', 'JavaScript', 'TypeScript', 'C++', 'C', 'CosmosDB', 'MSSQL', 'Node', 'Express', 'React', 'Vue', 'Redux', 'jQuery', 'NoSQL', 'Git', 'Azure', 'Cloud Computing', 'CI/CD', 'XUnit', 'Jest', 'Cucumber', 'Nightwatch', 'Unit Testing', 'Lambda', 'OOP', 'Unity 2D', 'Game Development', 'Microservices', 'Distributed Systems', 'Frontend', 'Backend', 'Full-Stack', 'English', 'Korean', 'Japanese'], professional_experiences=['YouTuber at YouTube (07/2021 - Current): Created content on software engineering, SWE skits, entertainment, tech life, coding, career advice, and LeetCode.', 'Software Engineer at Microsoft, Redmond, WA, USA (05/2018 - 04/2022): Led the design and development of multiple enterprise-level microservice applications, driving $35.3 billion of revenue annually using Azure, C#, .NET, Cosmos DB, and other technologies.', \"Software Development Engineer at Amazon, Seattle, WA, USA (04/2017 - 04/2018): Implemented enterprise applications for Prime's Content Experiment Platforms using Java, React, AngularJS, AWS, and DynamoDB.\", \"Software Engineer at eBay, Seoul, South Korea (12/2014 - 03/2017): Designed and implemented fintech applications for South Korea's largest e-commerce platforms, driving monthly revenue of $1 billion using C#.NET, MVC, MSSQL, Node, React, Redux, and jQuery.\", 'Software Engineer, Intern at NCSoft, Seoul, South Korea (07/2014 - 08/2014): Developed a mobile social game application using Cocos2D/C++.', 'Software Engineer, Contract at Cyberstep, Tokyo, Japan (06/2013 - 12/2013): Developed a mobile RTS game client and server using ActionScript3 and Java.'], educations=['Bachelor of Science in Electrical and Computer Engineering from Carnegie Mellon University, Pittsburgh, PA, USA (08/2007 - 12/2010)'], publications=[], distinctions=['Bronze Award: Won 4th prize for the development of action game SPIKE at HAL Game Development Competition in Tokyo (03/2013)', 'Certificate of Japanese Language Proficiency N1: The highest-level certificate of Japanese proficiency (24.1% Pass Rate) (02/2014)'], certifications=[])"
      ]
     },
     "execution_count": 6,
     "metadata": {},
     "output_type": "execute_result"
    }
   ],
   "source": [
    "from langchain_mistralai.chat_models import ChatMistralAI\n",
    "from pydantic import BaseModel, Field\n",
    "from langchain_community.document_loaders import PyPDFLoader\n",
    "from typing import List\n",
    "import ssl\n",
    "\n",
    "print(ssl.OPENSSL_VERSION)\n",
    "loader = PyPDFLoader(\"cv.pdf\")\n",
    "pages = loader.load_and_split()\n",
    "\n",
    "text = \" \".join(list(map(lambda page: page.page_content, pages)))\n",
    "\n",
    "class CVDataExtraction(BaseModel):\n",
    "    full_name: str = Field(description=\"The full name of the candidate, used as their username in the system.\")\n",
    "    email: str = Field(description=\"The candidate's email address for identification and communication purposes.\")\n",
    "    job_titles: str = Field(description=\"A summary of the candidate's current or most recent job titles.\")\n",
    "    promotion_years: int = Field(description=\"The year the candidate started their professional career.\")\n",
    "    profile: str = Field(description=\"A brief overview of the candidate's professional profile, including their key attributes and expertise.\")\n",
    "    skills: List[str] = Field(description=\"A list of the candidate's soft and technical skills, showcasing their capabilities.\")\n",
    "    professional_experiences: List[str] = Field(description=\"Detailed information about the candidate's professional work experiences, including roles, responsibilities, and achievements.\")\n",
    "    educations: List[str] = Field(description=\"Educational qualifications of the candidate, including degrees, institutions, and graduation years.\")\n",
    "    publications: List[str] = Field(description=\"Any publications authored or co-authored by the candidate, such as articles, papers, or books.\")\n",
    "    distinctions: List[str] = Field(description=\"Awards, honors, or recognitions received by the candidate throughout their career or education.\")\n",
    "    certifications: List[str] = Field(description=\"Professional certifications achieved by the candidate, indicating their specialized knowledge and qualifications.\")\n",
    "\n",
    "\n",
    "model = ChatMistralAI(api_key=\"XXXXXX\", model='mistral-large-latest')\n",
    "\n",
    "structured_llm = model.with_structured_output(CVDataExtraction)\n",
    "\n",
    "# output as JSON\n",
    "structured_llm.invoke(text)\n"
   ]
  },
  {
   "cell_type": "code",
   "execution_count": 7,
   "metadata": {},
   "outputs": [
    {
     "name": "stdout",
     "output_type": "stream",
     "text": [
      "{'full_name': 'Pirate King', 'email': 'pirateking@gmail.com', 'job_titles': 'Software Engineer, YouTuber, Mentor', 'promotion_years': 2014, 'profile': 'A skilled software engineer with experience in various programming languages and technologies, including C#, .NET, Java, JavaScript, and more. Proficient in full-stack development, microservices, and cloud computing. Experienced in leading development projects and mentoring aspiring software engineers. Fluent in English, Korean, and Japanese.', 'skills': ['C#', '.NET', 'Java', 'JavaScript', 'TypeScript', 'C++', 'C', 'CosmosDB', 'MSSQL', 'Node', 'Express', 'React', 'Vue', 'Redux', 'jQuery', 'NoSQL', 'Git', 'Azure', 'Cloud Computing', 'CI/CD', 'XUnit', 'Jest', 'Cucumber', 'Nightwatch', 'Unit Testing', 'Lambda', 'OOP', 'Unity 2D', 'Game Development', 'Microservices', 'Distributed Systems', 'Frontend', 'Backend', 'Full-Stack', 'English', 'Korean', 'Japanese'], 'professional_experiences': ['YouTuber at YouTube, creating content on software engineering, SWE skits, entertainment, tech life, coding, career advice, and LeetCode problems. (07/2021 - Current)', 'Software Engineer at Microsoft, Redmond, WA, USA, leading the design and development of multiple enterprise-level microservice applications for the Commerce Experience Group, driving $35.3 billion of revenue annually using technologies like Azure, C#, .NET, Cosmos DB, Azure Functions, Key Vault, and MS Graph. (05/2018 - 04/2022)', \"Software Development Engineer at Amazon, Seattle, WA, USA, implementing enterprise applications for Prime's Content Experiment Platforms using Java, React, AngularJS, AWS, and DynamoDB. (04/2017 - 04/2018)\", \"Software Engineer at eBay, Seoul, South Korea, designing and implementing enterprise fintech applications for South Korea's largest e-commerce platforms. (12/2014 - 03/2017)\", 'Software Engineer Intern at NCSoft, Seoul, South Korea, developing a mobile social game application. (07/2014 - 08/2014)', 'Contract Software Engineer at Cyberstep, Tokyo, Japan, developing a mobile RTS game client and server. (06/2013 - 12/2013)'], 'educations': ['Bachelor of Science in Electrical and Computer Engineering from Carnegie Mellon University, Pittsburgh, PA, USA. (08/2007 - 12/2010)'], 'publications': [], 'distinctions': ['Bronze Award for the development of action game SPIKE at HAL Game Development Competition in Tokyo. (03/2013)', 'Certificate of Japanese Language Proficiency N1, the highest-level certificate of Japanese proficiency. (02/2014)'], 'certifications': []}\n"
     ]
    },
    {
     "name": "stderr",
     "output_type": "stream",
     "text": [
      "/var/folders/f3/wps0vhy53yb_l6b_w_1dq2f80000gn/T/ipykernel_89636/1772127340.py:5: PydanticDeprecatedSince20: The `dict` method is deprecated; use `model_dump` instead. Deprecated in Pydantic V2.0 to be removed in V3.0. See Pydantic V2 Migration Guide at https://errors.pydantic.dev/2.10/migration/\n",
      "  cv_dict = parsed_data.dict()\n"
     ]
    }
   ],
   "source": [
    "# Parse the text using the structured LLM\n",
    "parsed_data = structured_llm.invoke(text)\n",
    "\n",
    "# Convert the parsed data to a dictionary\n",
    "cv_dict = parsed_data.dict()\n",
    "\n",
    "print(cv_dict)"
   ]
  }
 ],
 "metadata": {
  "kernelspec": {
   "display_name": "venv",
   "language": "python",
   "name": "python3"
  },
  "language_info": {
   "codemirror_mode": {
    "name": "ipython",
    "version": 3
   },
   "file_extension": ".py",
   "mimetype": "text/x-python",
   "name": "python",
   "nbconvert_exporter": "python",
   "pygments_lexer": "ipython3",
   "version": "3.9.6"
  }
 },
 "nbformat": 4,
 "nbformat_minor": 2
}
